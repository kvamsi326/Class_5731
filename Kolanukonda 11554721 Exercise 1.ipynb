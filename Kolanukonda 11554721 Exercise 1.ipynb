{
 "cells": [
  {
   "cell_type": "markdown",
   "metadata": {
    "colab_type": "text",
    "id": "view-in-github"
   },
   "source": [
    "<a href=\"https://colab.research.google.com/github/unt-iialab/INFO5731_Spring2020/blob/master/In_class_exercise/In_class_exercise_01.ipynb\" target=\"_parent\"><img src=\"https://colab.research.google.com/assets/colab-badge.svg\" alt=\"Open In Colab\"/></a>"
   ]
  },
  {
   "cell_type": "markdown",
   "metadata": {
    "colab_type": "text",
    "id": "DymRJbxDBCnf"
   },
   "source": [
    "# **The first In-class-exercise (09/07/2022, 40 points in total)**"
   ]
  },
  {
   "cell_type": "markdown",
   "metadata": {
    "colab_type": "text",
    "id": "03jb4GZsBkBS"
   },
   "source": [
    "(1) Write a Python program to calculate the length of a string. (4 points)"
   ]
  },
  {
   "cell_type": "code",
   "execution_count": 1,
   "metadata": {
    "colab": {},
    "colab_type": "code",
    "id": "YaGLbSHHB8Ej"
   },
   "outputs": [
    {
     "name": "stdout",
     "output_type": "stream",
     "text": [
      "12\n"
     ]
    }
   ],
   "source": [
    "# write your answer here\n",
    "string1 = \"Data Science\"\n",
    "print(len(string1))"
   ]
  },
  {
   "cell_type": "markdown",
   "metadata": {
    "colab_type": "text",
    "id": "jJDe71iLB616"
   },
   "source": [
    "(2) Write a Python program to count the number of characters in a string. (4 points)\n",
    "\n",
    "Sample String : 'google.com‘, \n",
    "\n",
    "Expected Result : {'o': 3, 'g': 2, '.': 1, 'e': 1, 'l': 1, 'm': 1, 'c': 1}"
   ]
  },
  {
   "cell_type": "code",
   "execution_count": 10,
   "metadata": {
    "colab": {},
    "colab_type": "code",
    "id": "MtKskTzbCLaU"
   },
   "outputs": [
    {
     "name": "stdout",
     "output_type": "stream",
     "text": [
      "{'o': 3, 'g': 2, 'c': 1, '.': 1, 'l': 1, 'm': 1, 'e': 1}\n"
     ]
    }
   ],
   "source": [
    "# write your answer here\n",
    "\n",
    "import operator\n",
    "\n",
    "string1 = \"google.com\"\n",
    "\n",
    "char_count = {}\n",
    "for char in set(string1):\n",
    "    char_count[char] = string1.count(char)\n",
    "    \n",
    "char_count = dict(sorted(char_count.items(), key=operator.itemgetter(1),reverse=True))\n",
    "print(char_count)"
   ]
  },
  {
   "cell_type": "markdown",
   "metadata": {
    "colab_type": "text",
    "id": "55W9AMdXCSpV"
   },
   "source": [
    "(3) Write a Python program to sum all the items in a list. (4 points)"
   ]
  },
  {
   "cell_type": "code",
   "execution_count": 17,
   "metadata": {
    "colab": {},
    "colab_type": "code",
    "id": "I57NXsauCec2"
   },
   "outputs": [
    {
     "name": "stdout",
     "output_type": "stream",
     "text": [
      "35\n"
     ]
    }
   ],
   "source": [
    "# write your answer here\n",
    "\n",
    "list_elements = [5, 6, 7, 8, 9]\n",
    "\n",
    "sum = 0\n",
    "\n",
    "for num in list_elements:\n",
    "    sum += num\n",
    "    \n",
    "print(sum)"
   ]
  },
  {
   "cell_type": "markdown",
   "metadata": {
    "colab_type": "text",
    "id": "4ulBZ6yhCi9F"
   },
   "source": [
    "(4) Write a Python program to get a string from a given string where all occurrences of its first char have been changed to '\\$', except the first char itself. (4 points)\n",
    "\n",
    "Sample String : 'restart‘, \n",
    "\n",
    "Expected Result : 'resta\\$t'"
   ]
  },
  {
   "cell_type": "code",
   "execution_count": 18,
   "metadata": {
    "colab": {},
    "colab_type": "code",
    "id": "Fj0XhwbBCw2o"
   },
   "outputs": [
    {
     "name": "stdout",
     "output_type": "stream",
     "text": [
      "resta*t\n"
     ]
    }
   ],
   "source": [
    "# write your answer here\n",
    "\n",
    "input_str = \"restart\"\n",
    "\n",
    "# replacing all occurences of first char except the first char itself...\n",
    "input_str = \"\".join((input_str[0], input_str[1:].replace(input_str[0], \"*\")))\n",
    "print(input_str)"
   ]
  },
  {
   "cell_type": "markdown",
   "metadata": {
    "colab_type": "text",
    "id": "_bIP7s1MCzue"
   },
   "source": [
    "(5) Write a program with python which could accept two parameter a and b to calculate and output the result of S, where \n",
    "\n",
    "$\\ S=3.14*(1+a/b)^3$ (4 points)\n",
    "\n"
   ]
  },
  {
   "cell_type": "code",
   "execution_count": 19,
   "metadata": {
    "colab": {},
    "colab_type": "code",
    "id": "w79QilHXD3Mg"
   },
   "outputs": [
    {
     "name": "stdout",
     "output_type": "stream",
     "text": [
      "Enter a value: 3\n",
      "Enter b value: 4\n",
      "The value of S is: 16.8284375\n"
     ]
    }
   ],
   "source": [
    "# write your answer here\n",
    "a = int(input(\"Enter a value: \"))\n",
    "b = int(input(\"Enter b value: \"))\n",
    "\n",
    "S = 3.14 * (1 + (a/b)) ** 3\n",
    "print(\"The value of S is: {}\".format(S))"
   ]
  },
  {
   "cell_type": "markdown",
   "metadata": {
    "colab_type": "text",
    "id": "xCa2bK9aD4Q3"
   },
   "source": [
    "(6) Write a Python program to concatenate following dictionaries to create a new one. (4 points)\n",
    "\n",
    "Sample Dictionary : dic1={1:10, 2:20}, dic2={3:30, 4:40}, dic3={5:50,6:60}, \n",
    "\n",
    "Expected Result : {1: 10, 2: 20, 3: 30, 4: 40, 5: 50, 6: 60}\n"
   ]
  },
  {
   "cell_type": "code",
   "execution_count": 22,
   "metadata": {
    "colab": {},
    "colab_type": "code",
    "id": "_z4aLqAbEET1"
   },
   "outputs": [
    {
     "name": "stdout",
     "output_type": "stream",
     "text": [
      "{1: 10, 2: 20, 3: 30, 4: 40, 5: 50, 6: 60}\n"
     ]
    }
   ],
   "source": [
    "# write your answer here\n",
    "\n",
    "dic1={1:10, 2:20}\n",
    "dic2={3:30, 4:40}\n",
    "dic3={5:50, 6:60}\n",
    "\n",
    "result_dic = {}\n",
    "\n",
    "for dic in [dic1, dic2, dic3]:\n",
    "    result_dic.update(dic)\n",
    "    \n",
    "print(result_dic)"
   ]
  },
  {
   "cell_type": "markdown",
   "metadata": {
    "colab_type": "text",
    "id": "0v48Vqa7FrQh"
   },
   "source": [
    "(7) Write a Python program to check whether an element exists within a tuple. (4 points)"
   ]
  },
  {
   "cell_type": "code",
   "execution_count": 24,
   "metadata": {
    "colab": {},
    "colab_type": "code",
    "id": "7WEmgq-DF2P1"
   },
   "outputs": [
    {
     "name": "stdout",
     "output_type": "stream",
     "text": [
      "Enter an element you want to search in the tuple: data science\n",
      "The element is present in the tuple!!!\n"
     ]
    }
   ],
   "source": [
    "# write your answer here\n",
    "\n",
    "sample_tuple = (\"department\", \"data science\")\n",
    "\n",
    "element = input(\"Enter an element you want to search in the tuple: \")\n",
    "\n",
    "if element in sample_tuple:\n",
    "    print(\"The element is present in the tuple!!!\")\n",
    "else:\n",
    "    print(\"The element is not present in the tuple!!!\")"
   ]
  },
  {
   "cell_type": "markdown",
   "metadata": {
    "colab_type": "text",
    "id": "vD5PYLMuGga_"
   },
   "source": [
    "(8) Write a Python program to find maximum and the minimum value in a set. (4 points)"
   ]
  },
  {
   "cell_type": "code",
   "execution_count": 25,
   "metadata": {
    "colab": {},
    "colab_type": "code",
    "id": "t0D5kdJUGjjw"
   },
   "outputs": [
    {
     "name": "stdout",
     "output_type": "stream",
     "text": [
      "Maximum value in this set is: 18\n",
      "Minimum value in this set is: 6\n"
     ]
    }
   ],
   "source": [
    "# write your answer here\n",
    "\n",
    "input_set = {12, 15, 6, 8, 16, 18}\n",
    "\n",
    "# uisng max(), min() built-in functions...\n",
    "print(\"Maximum value in this set is: {}\".format(max(input_set)))\n",
    "print(\"Minimum value in this set is: {}\".format(min(input_set)))"
   ]
  },
  {
   "cell_type": "markdown",
   "metadata": {
    "colab_type": "text",
    "id": "uHkd-y5VhVWC"
   },
   "source": [
    "(9) Write a Python program to randomly divide the students in this class into six groups for term projects, each group should have at least 4 students but no more than 6 students (including 6). Here is the students list: (4 points)\n",
    "\n",
    "studnet_list = ['ja0964','sa1198','sb1357','vb0218','sc1229','kg0569','kg0470','sg1297','bg0320','fh0141','jl1252','sk1386',\n",
    "           'ak0956','sk1390','sk1458','sk1313','ak0934','vm0377','nm0618','sm1640','sm1907','gn0108','pr0353','dr0609','ms1500','aos0040','ds0814', 'av0659','nv0234','hy0232']"
   ]
  },
  {
   "cell_type": "code",
   "execution_count": 51,
   "metadata": {
    "colab": {},
    "colab_type": "code",
    "id": "3iGbmcOBhTwy"
   },
   "outputs": [
    {
     "name": "stdout",
     "output_type": "stream",
     "text": [
      "['nm0618', 'vm0377', 'ms1500', 'sg1297', 'dr0609']\n",
      "['sk1313', 'fh0141', 'ak0934', 'ja0964', 'sc1229', 'av0659']\n",
      "['sk1386', 'sk1390', 'ds0814', 'sb1357']\n",
      "['pr0353', 'sm1907', 'bg0320', 'kg0569']\n",
      "['gn0108', 'kg0470', 'vb0218', 'ak0956', 'aos0040']\n",
      "['sa1198', 'hy0232', 'nv0234', 'sm1640', 'jl1252', 'sk1458']\n"
     ]
    }
   ],
   "source": [
    "# write your answer here\n",
    "\n",
    "import numpy as np, random\n",
    "studnet_list = ['ja0964','sa1198','sb1357','vb0218','sc1229','kg0569','kg0470','sg1297','bg0320','fh0141','jl1252','sk1386', 'ak0956','sk1390','sk1458','sk1313','ak0934','vm0377','nm0618','sm1640','sm1907','gn0108','pr0353','dr0609','ms1500','aos0040','ds0814', 'av0659','nv0234','hy0232']\n",
    "\n",
    "# the len_group numbers sum upto 30\n",
    "group_len = [5, 6, 4, 6, 5, 4]\n",
    "random.shuffle(group_len)\n",
    "result = []\n",
    "\n",
    "for length in group_len:\n",
    "    \n",
    "    # generating a sample of length in len_group  \n",
    "    group = random.sample(studnet_list, length)\n",
    "    \n",
    "    # remove those elements from the studnet_list that are in group sample, \n",
    "    studnet_list = list(set(studnet_list) ^ set(group))\n",
    "    \n",
    "    # Adding the random sample to a resultant 2d array.\n",
    "    result = result + [group]\n",
    "    \n",
    "# printing the 6 groups.\n",
    "for row in result:\n",
    "    print(row, end= '\\n')"
   ]
  },
  {
   "cell_type": "markdown",
   "metadata": {},
   "source": [
    "(10) Write a Python program to find the duplicate elements in a given array of integers. Return -1 If there are no such elements. (4 points)"
   ]
  },
  {
   "cell_type": "code",
   "execution_count": 56,
   "metadata": {},
   "outputs": [
    {
     "name": "stdout",
     "output_type": "stream",
     "text": [
      "2 5 6 7 "
     ]
    }
   ],
   "source": [
    "# write your answer here\n",
    "\n",
    "import numpy as np\n",
    "\n",
    "arr = np.array([2, 5, 6, 7, 5, 2, 3, 4, 6, 7])\n",
    "flag = 0\n",
    "\n",
    "for num in set(arr):\n",
    "  # get the count of occurences that are greater than 1.\n",
    "  if np.count_nonzero(arr == num) > 1:\n",
    "    flag = 1\n",
    "    print(num, end = ' ')\n",
    "\n",
    "# if there are no duplicate elements, tehn we print '-1'.\n",
    "if flag == 0:\n",
    "    print(\"-1\")"
   ]
  },
  {
   "cell_type": "markdown",
   "metadata": {},
   "source": [
    "(11) Write a Python program to select all the Sundays of a specified year. (4 extra points)"
   ]
  },
  {
   "cell_type": "code",
   "execution_count": 58,
   "metadata": {},
   "outputs": [
    {
     "name": "stdout",
     "output_type": "stream",
     "text": [
      "Enter the year to obtain the list of sundays...2000\n"
     ]
    },
    {
     "data": {
      "text/plain": [
       "['02-January-2000',\n",
       " '09-January-2000',\n",
       " '16-January-2000',\n",
       " '23-January-2000',\n",
       " '30-January-2000',\n",
       " '06-February-2000',\n",
       " '13-February-2000',\n",
       " '20-February-2000',\n",
       " '27-February-2000',\n",
       " '05-March-2000',\n",
       " '12-March-2000',\n",
       " '19-March-2000',\n",
       " '26-March-2000',\n",
       " '02-April-2000',\n",
       " '09-April-2000',\n",
       " '16-April-2000',\n",
       " '23-April-2000',\n",
       " '30-April-2000',\n",
       " '07-May-2000',\n",
       " '14-May-2000',\n",
       " '21-May-2000',\n",
       " '28-May-2000',\n",
       " '04-June-2000',\n",
       " '11-June-2000',\n",
       " '18-June-2000',\n",
       " '25-June-2000',\n",
       " '02-July-2000',\n",
       " '09-July-2000',\n",
       " '16-July-2000',\n",
       " '23-July-2000',\n",
       " '30-July-2000',\n",
       " '06-August-2000',\n",
       " '13-August-2000',\n",
       " '20-August-2000',\n",
       " '27-August-2000',\n",
       " '03-September-2000',\n",
       " '10-September-2000',\n",
       " '17-September-2000',\n",
       " '24-September-2000',\n",
       " '01-October-2000',\n",
       " '08-October-2000',\n",
       " '15-October-2000',\n",
       " '22-October-2000',\n",
       " '29-October-2000',\n",
       " '05-November-2000',\n",
       " '12-November-2000',\n",
       " '19-November-2000',\n",
       " '26-November-2000',\n",
       " '03-December-2000',\n",
       " '10-December-2000',\n",
       " '17-December-2000',\n",
       " '24-December-2000',\n",
       " '31-December-2000']"
      ]
     },
     "execution_count": 58,
     "metadata": {},
     "output_type": "execute_result"
    }
   ],
   "source": [
    "# write your answer here\n",
    "\n",
    "import pandas as pd\n",
    "\n",
    "def yearly_sundays(year):\n",
    "    \n",
    "  # date_range(): we specify year and frequency as sunday and strftime which determines the output format.\n",
    "  return pd.date_range(start=str(year), end=str(year+1), freq='W-SUN').strftime('%d-%B-%Y').tolist()\n",
    "\n",
    "year = int(input(\"Enter the year to obtain the list of sundays...\"))\n",
    "yearly_sundays(year)"
   ]
  },
  {
   "cell_type": "code",
   "execution_count": null,
   "metadata": {},
   "outputs": [],
   "source": []
  }
 ],
 "metadata": {
  "colab": {
   "collapsed_sections": [],
   "include_colab_link": true,
   "name": "In_class_exercise_01.ipynb",
   "provenance": []
  },
  "kernelspec": {
   "display_name": "Python 3 (ipykernel)",
   "language": "python",
   "name": "python3"
  },
  "language_info": {
   "codemirror_mode": {
    "name": "ipython",
    "version": 3
   },
   "file_extension": ".py",
   "mimetype": "text/x-python",
   "name": "python",
   "nbconvert_exporter": "python",
   "pygments_lexer": "ipython3",
   "version": "3.9.12"
  }
 },
 "nbformat": 4,
 "nbformat_minor": 1
}

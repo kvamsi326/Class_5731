{
  "cells": [
    {
      "cell_type": "markdown",
      "metadata": {
        "id": "SGkjKVAw3BN3"
      },
      "source": [
        "# **The fifth in-class-exercise (40 points in total, 11/17/2022)**"
      ]
    },
    {
      "cell_type": "markdown",
      "metadata": {
        "id": "S4rTmIWM3BOA"
      },
      "source": [
        "(20 points) The purpose of the question is to practice different machine learning algorithms for text classification as well as the performance evaluation. In addition, you are requried to conduct *10 fold cross validation (https://scikit-learn.org/stable/modules/cross_validation.html)* in the training. \n",
        "\n",
        "The dataset can be download from canvas. The dataset contains two files train data and test data for sentiment analysis in IMDB review, it has two categories: 1 represents positive and 0 represents negative. You need to split the training data into training and validate data (80% for training and 20% for validation, https://towardsdatascience.com/train-test-split-and-cross-validation-in-python-80b61beca4b6) and perform 10 fold cross validation while training the classifier. The final trained model was final evaluated on the test data. \n",
        "\n",
        "Algorithms:\n",
        "\n",
        "(1) MultinominalNB\n",
        "\n",
        "(2) SVM \n",
        "\n",
        "(3) KNN \n",
        "\n",
        "(4) Decision tree\n",
        "\n",
        "(5) Random Forest\n",
        "\n",
        "(6) XGBoost\n",
        "\n",
        "Evaluation measurement:\n",
        "\n",
        "(1) Accuracy\n",
        "\n",
        "(2) Recall\n",
        "\n",
        "(3) Precison \n",
        "\n",
        "(4) F-1 score"
      ]
    },
    {
      "cell_type": "code",
      "source": [
        "from google.colab import drive\n",
        "drive.mount('/content/gdrive')"
      ],
      "metadata": {
        "colab": {
          "base_uri": "https://localhost:8080/"
        },
        "id": "PuBkhTW_5PdC",
        "outputId": "798da195-ced4-491b-ea3e-2a337ad3dbda"
      },
      "execution_count": 3,
      "outputs": [
        {
          "output_type": "stream",
          "name": "stdout",
          "text": [
            "Mounted at /content/gdrive\n"
          ]
        }
      ]
    },
    {
      "cell_type": "code",
      "execution_count": 3,
      "metadata": {
        "colab": {
          "base_uri": "https://localhost:8080/"
        },
        "id": "uNZME3q43BOC",
        "outputId": "c9503ea3-63c4-4d4f-d0bb-b731c372cf74"
      },
      "outputs": [
        {
          "output_type": "stream",
          "name": "stderr",
          "text": [
            "/usr/local/lib/python3.7/dist-packages/pandas/util/_decorators.py:311: ParserWarning: Falling back to the 'python' engine because the 'c' engine does not support regex separators (separators > 1 char and different from '\\s+' are interpreted as regex); you can avoid this warning by specifying engine='python'.\n",
            "  return func(*args, **kwargs)\n"
          ]
        },
        {
          "output_type": "stream",
          "name": "stdout",
          "text": [
            "                                             reviews sentiment\n",
            "0  a stirring , funny and finally transporting re...         1\n",
            "1  apparently reassembled from the cutting-room f...         0\n",
            "2  they presume their audience wo n't sit still f...         0\n",
            "3  this is a visually stunning rumination on love...         1\n",
            "4  jonathan parker 's bartleby should have been t...         1\n",
            "\n",
            "                                             reviews sentiment\n",
            "0     no movement , no yuks , not much of anything .         0\n",
            "1  a gob of drivel so sickly sweet , even the eag...         0\n",
            "2  gangs of new york is an unapologetic mess , wh...         0\n",
            "3  we never really feel involved with the story ,...         0\n",
            "4            this is one of polanski 's best films .         1\n"
          ]
        }
      ],
      "source": [
        "# Write your code here\n",
        "import pandas as pd\n",
        "\n",
        "data_train = pd.read_csv('/content/gdrive/My Drive/Assignment Nov 20/stsa-train.txt', sep = 'delimiter=', header= None, names=['reviews'])\n",
        "data_train[['sentiment','reviews']] = data_train['reviews'].str.split(\" \", 1, expand=True)\n",
        "\n",
        "data_test = pd.read_csv('/content/gdrive/My Drive/Assignment Nov 20/stsa-test.txt', sep = 'delimiter=', header= None, names=['reviews'])\n",
        "data_test[['sentiment','reviews']] = data_test['reviews'].str.split(\" \", 1, expand=True)\n",
        "\n",
        "print(data_train.head())\n",
        "print()\n",
        "print(data_test.head())"
      ]
    },
    {
      "cell_type": "code",
      "execution_count": 4,
      "metadata": {
        "colab": {
          "base_uri": "https://localhost:8080/"
        },
        "id": "XsjuGe7l3BOH",
        "outputId": "886eeebf-68f2-430a-9e25-47cdd6854a25"
      },
      "outputs": [
        {
          "output_type": "stream",
          "name": "stderr",
          "text": [
            "[nltk_data] Downloading package stopwords to /root/nltk_data...\n",
            "[nltk_data]   Unzipping corpora/stopwords.zip.\n",
            "[nltk_data] Downloading package wordnet to /root/nltk_data...\n"
          ]
        }
      ],
      "source": [
        "import nltk\n",
        "import re\n",
        "import string\n",
        "nltk.download('stopwords')\n",
        "nltk.download('wordnet')\n",
        "stopword=nltk.corpus.stopwords.words('english')\n",
        "from nltk.stem import WordNetLemmatizer\n",
        "wl= WordNetLemmatizer()\n",
        "\n",
        "def clean(review):\n",
        "    review =\"\".join([word.lower() for word in review if word not in string.punctuation])\n",
        "    review = re.sub(\"^\\d+\\s|\\s\\d+\\s|\\s\\d+$\", \" \", review)\n",
        "    tokens = re.split('\\W+',review)\n",
        "    review = [wl.lemmatize(word) for word in tokens if word not in stopword]\n",
        "    return review"
      ]
    },
    {
      "cell_type": "code",
      "source": [
        "import nltk\n",
        "nltk.download('omw-1.4')"
      ],
      "metadata": {
        "colab": {
          "base_uri": "https://localhost:8080/"
        },
        "id": "lYIUUzFL5tei",
        "outputId": "b4b00293-e489-46a2-a3f7-5692e47f50d6"
      },
      "execution_count": 6,
      "outputs": [
        {
          "output_type": "stream",
          "name": "stderr",
          "text": [
            "[nltk_data] Downloading package omw-1.4 to /root/nltk_data...\n"
          ]
        },
        {
          "output_type": "execute_result",
          "data": {
            "text/plain": [
              "True"
            ]
          },
          "metadata": {},
          "execution_count": 6
        }
      ]
    },
    {
      "cell_type": "code",
      "execution_count": 7,
      "metadata": {
        "colab": {
          "base_uri": "https://localhost:8080/"
        },
        "id": "RaH1U8_K3BOI",
        "outputId": "2b884a9b-dfb1-4085-ed6f-9b991882b2d1"
      },
      "outputs": [
        {
          "output_type": "stream",
          "name": "stderr",
          "text": [
            "/usr/local/lib/python3.7/dist-packages/sklearn/utils/deprecation.py:87: FutureWarning: Function get_feature_names is deprecated; get_feature_names is deprecated in 1.0 and will be removed in 1.2. Please use get_feature_names_out instead.\n",
            "  warnings.warn(msg, category=FutureWarning)\n"
          ]
        },
        {
          "output_type": "stream",
          "name": "stdout",
          "text": [
            "(1821, 13343)\n"
          ]
        }
      ],
      "source": [
        "from sklearn.feature_extraction.text import TfidfVectorizer\n",
        "\n",
        "tfidf_vect = TfidfVectorizer(analyzer = clean)\n",
        "x_tfidf = tfidf_vect.fit_transform(data_train['reviews'])\n",
        "\n",
        "#print(X_tfidf.shape)\n",
        "\n",
        "x_tfidf_df = pd.DataFrame(x_tfidf.toarray())\n",
        "x_tfidf_df.columns = tfidf_vect.get_feature_names()\n",
        "x_test_tfidf = tfidf_vect.transform(data_test['reviews'])\n",
        "\n",
        "print(x_test_tfidf.shape)"
      ]
    },
    {
      "cell_type": "code",
      "execution_count": 9,
      "metadata": {
        "colab": {
          "base_uri": "https://localhost:8080/"
        },
        "id": "v9b0HlG93BOK",
        "outputId": "dda9cd19-2c97-4a14-928a-cf02769f3c5b"
      },
      "outputs": [
        {
          "output_type": "stream",
          "name": "stdout",
          "text": [
            "Accuracy 0.8\n",
            "              precision    recall  f1-score   support\n",
            "\n",
            "           0       0.85      0.70      0.77       671\n",
            "           1       0.76      0.88      0.82       713\n",
            "\n",
            "    accuracy                           0.80      1384\n",
            "   macro avg       0.80      0.79      0.79      1384\n",
            "weighted avg       0.80      0.80      0.79      1384\n",
            "\n"
          ]
        }
      ],
      "source": [
        "import pandas as pd\n",
        "from sklearn import datasets, linear_model\n",
        "from sklearn.model_selection import train_test_split\n",
        "from matplotlib import pyplot as plt\n",
        "from sklearn.metrics import accuracy_score\n",
        "from sklearn.metrics import classification_report\n",
        "from sklearn.naive_bayes import MultinomialNB\n",
        "\n",
        "nb_model = MultinomialNB()\n",
        "\n",
        "# Sampling the training set\n",
        "x_train, x_test, y_train, y_test = train_test_split(x_tfidf_df, data_train['sentiment'].values,\n",
        "                                                test_size=0.2, random_state=42)\n",
        "\n",
        "# Model fit using .fit()\n",
        "nb_model.fit(x_train,y_train)\n",
        "y_pred_nb = nb_model.predict(x_test)\n",
        "\n",
        "print('Accuracy %s' % round(accuracy_score(y_test, y_pred_nb), 2))\n",
        "print(classification_report(y_test, y_pred_nb))"
      ]
    },
    {
      "cell_type": "code",
      "execution_count": 10,
      "metadata": {
        "colab": {
          "base_uri": "https://localhost:8080/"
        },
        "id": "2DDdSl1z3BOL",
        "outputId": "075f855d-3770-47d3-a3b8-599f1958832e"
      },
      "outputs": [
        {
          "output_type": "stream",
          "name": "stdout",
          "text": [
            "NB model score:  0.7247054530288813\n"
          ]
        }
      ],
      "source": [
        "from sklearn.model_selection import cross_val_score\n",
        "\n",
        "scores = cross_val_score(nb_model, x_test, y_test, cv=10)\n",
        "print(\"NB model score: \", scores.mean())"
      ]
    },
    {
      "cell_type": "code",
      "execution_count": 11,
      "metadata": {
        "colab": {
          "base_uri": "https://localhost:8080/"
        },
        "id": "Q8o7y8oP3BOM",
        "outputId": "7b0c6afb-9c39-4edb-9a5c-5eeb0d50498a"
      },
      "outputs": [
        {
          "output_type": "stream",
          "name": "stdout",
          "text": [
            "Accuracy 0.7622832369942196\n",
            "              precision    recall  f1-score   support\n",
            "\n",
            "           0       0.73      0.81      0.77       671\n",
            "           1       0.80      0.71      0.76       713\n",
            "\n",
            "    accuracy                           0.76      1384\n",
            "   macro avg       0.77      0.76      0.76      1384\n",
            "weighted avg       0.77      0.76      0.76      1384\n",
            "\n"
          ]
        }
      ],
      "source": [
        "# KNN model\n",
        "\n",
        "from sklearn.neighbors import KNeighborsClassifier\n",
        "\n",
        "knn_model = KNeighborsClassifier(n_neighbors = 8)\n",
        "\n",
        "knn_model.fit(x_train,y_train)\n",
        "y_pred_knn = knn_model.predict(x_test)\n",
        "\n",
        "print('Accuracy %s' % accuracy_score(y_test, y_pred_knn))\n",
        "print(classification_report(y_test, y_pred_knn))"
      ]
    },
    {
      "cell_type": "code",
      "execution_count": 12,
      "metadata": {
        "colab": {
          "base_uri": "https://localhost:8080/"
        },
        "id": "iZqh4d3N3BOO",
        "outputId": "314d3be3-c0fe-4115-c07e-63216b4d2b72"
      },
      "outputs": [
        {
          "output_type": "stream",
          "name": "stdout",
          "text": [
            "KNN cross validation score: 0.6748670628714419\n"
          ]
        }
      ],
      "source": [
        "# Calculating cross-value score\n",
        "from sklearn.model_selection import cross_val_score\n",
        "\n",
        "knn_cv_scores = cross_val_score(knn_model, x_test, y_test, cv=10)\n",
        "print(\"KNN cross validation score:\", knn_cv_scores.mean())"
      ]
    },
    {
      "cell_type": "code",
      "execution_count": 13,
      "metadata": {
        "colab": {
          "base_uri": "https://localhost:8080/"
        },
        "id": "ElSC1Ub03BOP",
        "outputId": "4fb2b80b-716c-42c5-b033-7e35e9912043"
      },
      "outputs": [
        {
          "output_type": "stream",
          "name": "stdout",
          "text": [
            "Accuracy 0.6567919075144508\n",
            "              precision    recall  f1-score   support\n",
            "\n",
            "           0       0.66      0.61      0.63       671\n",
            "           1       0.66      0.70      0.68       713\n",
            "\n",
            "    accuracy                           0.66      1384\n",
            "   macro avg       0.66      0.66      0.66      1384\n",
            "weighted avg       0.66      0.66      0.66      1384\n",
            "\n"
          ]
        }
      ],
      "source": [
        "# Decision Tree\n",
        "\n",
        "from sklearn.tree import DecisionTreeClassifier\n",
        "\n",
        "dt_model = DecisionTreeClassifier()\n",
        "dt_model.fit(x_train,y_train)\n",
        "\n",
        "y_pred_dt = dt_model.predict(x_test)\n",
        "\n",
        "print('Accuracy %s' % accuracy_score(y_pred_dt, y_test))\n",
        "print(classification_report(y_test, y_pred_dt))"
      ]
    },
    {
      "cell_type": "code",
      "execution_count": 14,
      "metadata": {
        "colab": {
          "base_uri": "https://localhost:8080/"
        },
        "id": "loqHQVFS3BOQ",
        "outputId": "417619f4-7d61-4945-c2f7-cab370b0dfe4"
      },
      "outputs": [
        {
          "output_type": "stream",
          "name": "stdout",
          "text": [
            "Decision tree score: 0.5974611615055782\n"
          ]
        }
      ],
      "source": [
        "# Calculating cross value score\n",
        "\n",
        "dt_val_scores = cross_val_score(dt_model, x_test, y_test, cv=10)\n",
        "print(\"Decision tree score:\", dt_val_scores.mean())"
      ]
    },
    {
      "cell_type": "code",
      "execution_count": 15,
      "metadata": {
        "colab": {
          "base_uri": "https://localhost:8080/"
        },
        "id": "PN2y2A0v3BOR",
        "outputId": "0f297238-5c17-4626-d8ac-b8ac602caab4"
      },
      "outputs": [
        {
          "output_type": "stream",
          "name": "stdout",
          "text": [
            "Accuracy 0.7391618497109826\n",
            "              precision    recall  f1-score   support\n",
            "\n",
            "           0       0.78      0.64      0.70       671\n",
            "           1       0.71      0.83      0.77       713\n",
            "\n",
            "    accuracy                           0.74      1384\n",
            "   macro avg       0.75      0.74      0.74      1384\n",
            "weighted avg       0.75      0.74      0.74      1384\n",
            "\n"
          ]
        }
      ],
      "source": [
        "# Random Forest model\n",
        "\n",
        "from sklearn.ensemble import RandomForestClassifier\n",
        "\n",
        "rf_model = RandomForestClassifier()\n",
        "rf_model.fit(x_train,y_train)\n",
        "\n",
        "y_pred_rf = rf_model.predict(x_test)\n",
        "\n",
        "print('Accuracy %s' % accuracy_score(y_test, y_pred_rf))\n",
        "print(classification_report(y_test,y_pred_rf))"
      ]
    },
    {
      "cell_type": "code",
      "execution_count": 16,
      "metadata": {
        "colab": {
          "base_uri": "https://localhost:8080/"
        },
        "id": "4eOsx8983BOS",
        "outputId": "4923594d-45f3-4afe-9951-c8514a14ce92"
      },
      "outputs": [
        {
          "output_type": "stream",
          "name": "stdout",
          "text": [
            "Random forest score 0.6770201230320092\n"
          ]
        }
      ],
      "source": [
        "# Random Forest - Calculate cross value score\n",
        "\n",
        "rf_cv_cores = cross_val_score(rf_model, x_test, y_test, cv=10)\n",
        "print(\"Random forest score\", rf_cv_cores.mean())"
      ]
    },
    {
      "cell_type": "code",
      "source": [
        "!pip install xgboost"
      ],
      "metadata": {
        "colab": {
          "base_uri": "https://localhost:8080/"
        },
        "id": "23vyz1wB3go0",
        "outputId": "8a7408ea-f102-4369-c534-c86fb1b8cb05"
      },
      "execution_count": 17,
      "outputs": [
        {
          "output_type": "stream",
          "name": "stdout",
          "text": [
            "Looking in indexes: https://pypi.org/simple, https://us-python.pkg.dev/colab-wheels/public/simple/\n",
            "Requirement already satisfied: xgboost in /usr/local/lib/python3.7/dist-packages (0.90)\n",
            "Requirement already satisfied: scipy in /usr/local/lib/python3.7/dist-packages (from xgboost) (1.7.3)\n",
            "Requirement already satisfied: numpy in /usr/local/lib/python3.7/dist-packages (from xgboost) (1.21.6)\n"
          ]
        }
      ]
    },
    {
      "cell_type": "code",
      "execution_count": 18,
      "metadata": {
        "colab": {
          "base_uri": "https://localhost:8080/"
        },
        "id": "UX3GD3mC3BOS",
        "outputId": "fea78614-6990-4382-858e-29a292415ade"
      },
      "outputs": [
        {
          "output_type": "stream",
          "name": "stdout",
          "text": [
            "Accuracy 0.6445086705202312\n",
            "              precision    recall  f1-score   support\n",
            "\n",
            "           0       0.75      0.40      0.52       671\n",
            "           1       0.61      0.88      0.72       713\n",
            "\n",
            "    accuracy                           0.64      1384\n",
            "   macro avg       0.68      0.64      0.62      1384\n",
            "weighted avg       0.68      0.64      0.62      1384\n",
            "\n"
          ]
        }
      ],
      "source": [
        "# XGBoost model\n",
        "\n",
        "from xgboost import XGBClassifier\n",
        "\n",
        "xgb_model = XGBClassifier()\n",
        "\n",
        "xgb_model.fit(x_train,y_train)\n",
        "y_pred_xgb = xgb_model.predict(x_test)\n",
        "\n",
        "print('Accuracy %s' % accuracy_score(y_test, y_pred_xgb))\n",
        "print(classification_report(y_test, y_pred_xgb))"
      ]
    },
    {
      "cell_type": "code",
      "execution_count": 19,
      "metadata": {
        "colab": {
          "base_uri": "https://localhost:8080/"
        },
        "id": "TON7DjUO3BOT",
        "outputId": "5cf36f39-902c-4aca-c9e4-e7a82ca1b174"
      },
      "outputs": [
        {
          "output_type": "stream",
          "name": "stdout",
          "text": [
            "XGBoost score: 0.6184704410384736\n"
          ]
        }
      ],
      "source": [
        "# XGBoost - Calculate cross value score\n",
        "\n",
        "rf_cv_scores = cross_val_score(xgb_model, x_test, y_test, cv=10)\n",
        "print(\"XGBoost score:\", rf_cv_scores.mean())"
      ]
    },
    {
      "cell_type": "code",
      "execution_count": null,
      "metadata": {
        "id": "t6yiCvJ53BOU"
      },
      "outputs": [],
      "source": []
    },
    {
      "cell_type": "markdown",
      "metadata": {
        "id": "_AIS_vGB3BOU"
      },
      "source": [
        "(20 points) The purpose of the question is to practice different machine learning algorithms for text clustering\n",
        "Please downlad the dataset by using the following link.  https://www.kaggle.com/PromptCloudHQ/amazon-reviews-unlocked-mobile-phones\n",
        "(You can also use different text data which you want)\n",
        "\n",
        "Apply the listed clustering methods to the dataset:\n",
        "\n",
        "K means, \n",
        "DBSCAN,\n",
        "Hierarchical clustering. \n",
        "\n",
        "You can refer to of the codes from  the follwing link below. \n",
        "https://www.kaggle.com/karthik3890/text-clustering "
      ]
    },
    {
      "cell_type": "code",
      "source": [
        "import nltk\n",
        "nltk.download('omw-1.4')"
      ],
      "metadata": {
        "colab": {
          "base_uri": "https://localhost:8080/"
        },
        "id": "pLVqnONp_lH8",
        "outputId": "19709cef-64c5-4694-b7a4-9ba28a5bba65"
      },
      "execution_count": 5,
      "outputs": [
        {
          "output_type": "stream",
          "name": "stderr",
          "text": [
            "[nltk_data] Downloading package omw-1.4 to /root/nltk_data...\n"
          ]
        },
        {
          "output_type": "execute_result",
          "data": {
            "text/plain": [
              "True"
            ]
          },
          "metadata": {},
          "execution_count": 5
        }
      ]
    },
    {
      "cell_type": "code",
      "execution_count": 1,
      "metadata": {
        "colab": {
          "base_uri": "https://localhost:8080/",
          "height": 310
        },
        "id": "Am8MugUP3BOV",
        "outputId": "116ffbf2-8d4a-4e12-d3e7-0fd9785d0994"
      },
      "outputs": [
        {
          "output_type": "stream",
          "name": "stderr",
          "text": [
            "[nltk_data] Downloading package stopwords to /root/nltk_data...\n",
            "[nltk_data]   Package stopwords is already up-to-date!\n",
            "[nltk_data] Downloading package wordnet to /root/nltk_data...\n",
            "[nltk_data]   Package wordnet is already up-to-date!\n",
            "/usr/local/lib/python3.7/dist-packages/ipykernel_launcher.py:15: FutureWarning: The default value of regex will change from True to False in a future version.\n",
            "  from ipykernel import kernelapp as app\n"
          ]
        },
        {
          "output_type": "execute_result",
          "data": {
            "text/plain": [
              "                                        Product Name Brand Name   Price  \\\n",
              "0  \"CLEAR CLEAN ESN\" Sprint EPIC 4G Galaxy SPH-D7...    Samsung  199.99   \n",
              "1  \"CLEAR CLEAN ESN\" Sprint EPIC 4G Galaxy SPH-D7...    Samsung  199.99   \n",
              "2  \"CLEAR CLEAN ESN\" Sprint EPIC 4G Galaxy SPH-D7...    Samsung  199.99   \n",
              "3  \"CLEAR CLEAN ESN\" Sprint EPIC 4G Galaxy SPH-D7...    Samsung  199.99   \n",
              "4  \"CLEAR CLEAN ESN\" Sprint EPIC 4G Galaxy SPH-D7...    Samsung  199.99   \n",
              "\n",
              "   Rating                                            Reviews  Review Votes  \n",
              "0       5  feel lucky found used phone u used hard phone ...           1.0  \n",
              "1       4  nice phone nice grade pantach revue clean set ...           0.0  \n",
              "2       5                                            pleased           0.0  \n",
              "3       4        work good go slow sometimes good phone love           0.0  \n",
              "4       4  great phone replace lost phone thing volume bu...           0.0  "
            ],
            "text/html": [
              "\n",
              "  <div id=\"df-383479d6-e910-47f6-b8c3-edb85b867633\">\n",
              "    <div class=\"colab-df-container\">\n",
              "      <div>\n",
              "<style scoped>\n",
              "    .dataframe tbody tr th:only-of-type {\n",
              "        vertical-align: middle;\n",
              "    }\n",
              "\n",
              "    .dataframe tbody tr th {\n",
              "        vertical-align: top;\n",
              "    }\n",
              "\n",
              "    .dataframe thead th {\n",
              "        text-align: right;\n",
              "    }\n",
              "</style>\n",
              "<table border=\"1\" class=\"dataframe\">\n",
              "  <thead>\n",
              "    <tr style=\"text-align: right;\">\n",
              "      <th></th>\n",
              "      <th>Product Name</th>\n",
              "      <th>Brand Name</th>\n",
              "      <th>Price</th>\n",
              "      <th>Rating</th>\n",
              "      <th>Reviews</th>\n",
              "      <th>Review Votes</th>\n",
              "    </tr>\n",
              "  </thead>\n",
              "  <tbody>\n",
              "    <tr>\n",
              "      <th>0</th>\n",
              "      <td>\"CLEAR CLEAN ESN\" Sprint EPIC 4G Galaxy SPH-D7...</td>\n",
              "      <td>Samsung</td>\n",
              "      <td>199.99</td>\n",
              "      <td>5</td>\n",
              "      <td>feel lucky found used phone u used hard phone ...</td>\n",
              "      <td>1.0</td>\n",
              "    </tr>\n",
              "    <tr>\n",
              "      <th>1</th>\n",
              "      <td>\"CLEAR CLEAN ESN\" Sprint EPIC 4G Galaxy SPH-D7...</td>\n",
              "      <td>Samsung</td>\n",
              "      <td>199.99</td>\n",
              "      <td>4</td>\n",
              "      <td>nice phone nice grade pantach revue clean set ...</td>\n",
              "      <td>0.0</td>\n",
              "    </tr>\n",
              "    <tr>\n",
              "      <th>2</th>\n",
              "      <td>\"CLEAR CLEAN ESN\" Sprint EPIC 4G Galaxy SPH-D7...</td>\n",
              "      <td>Samsung</td>\n",
              "      <td>199.99</td>\n",
              "      <td>5</td>\n",
              "      <td>pleased</td>\n",
              "      <td>0.0</td>\n",
              "    </tr>\n",
              "    <tr>\n",
              "      <th>3</th>\n",
              "      <td>\"CLEAR CLEAN ESN\" Sprint EPIC 4G Galaxy SPH-D7...</td>\n",
              "      <td>Samsung</td>\n",
              "      <td>199.99</td>\n",
              "      <td>4</td>\n",
              "      <td>work good go slow sometimes good phone love</td>\n",
              "      <td>0.0</td>\n",
              "    </tr>\n",
              "    <tr>\n",
              "      <th>4</th>\n",
              "      <td>\"CLEAR CLEAN ESN\" Sprint EPIC 4G Galaxy SPH-D7...</td>\n",
              "      <td>Samsung</td>\n",
              "      <td>199.99</td>\n",
              "      <td>4</td>\n",
              "      <td>great phone replace lost phone thing volume bu...</td>\n",
              "      <td>0.0</td>\n",
              "    </tr>\n",
              "  </tbody>\n",
              "</table>\n",
              "</div>\n",
              "      <button class=\"colab-df-convert\" onclick=\"convertToInteractive('df-383479d6-e910-47f6-b8c3-edb85b867633')\"\n",
              "              title=\"Convert this dataframe to an interactive table.\"\n",
              "              style=\"display:none;\">\n",
              "        \n",
              "  <svg xmlns=\"http://www.w3.org/2000/svg\" height=\"24px\"viewBox=\"0 0 24 24\"\n",
              "       width=\"24px\">\n",
              "    <path d=\"M0 0h24v24H0V0z\" fill=\"none\"/>\n",
              "    <path d=\"M18.56 5.44l.94 2.06.94-2.06 2.06-.94-2.06-.94-.94-2.06-.94 2.06-2.06.94zm-11 1L8.5 8.5l.94-2.06 2.06-.94-2.06-.94L8.5 2.5l-.94 2.06-2.06.94zm10 10l.94 2.06.94-2.06 2.06-.94-2.06-.94-.94-2.06-.94 2.06-2.06.94z\"/><path d=\"M17.41 7.96l-1.37-1.37c-.4-.4-.92-.59-1.43-.59-.52 0-1.04.2-1.43.59L10.3 9.45l-7.72 7.72c-.78.78-.78 2.05 0 2.83L4 21.41c.39.39.9.59 1.41.59.51 0 1.02-.2 1.41-.59l7.78-7.78 2.81-2.81c.8-.78.8-2.07 0-2.86zM5.41 20L4 18.59l7.72-7.72 1.47 1.35L5.41 20z\"/>\n",
              "  </svg>\n",
              "      </button>\n",
              "      \n",
              "  <style>\n",
              "    .colab-df-container {\n",
              "      display:flex;\n",
              "      flex-wrap:wrap;\n",
              "      gap: 12px;\n",
              "    }\n",
              "\n",
              "    .colab-df-convert {\n",
              "      background-color: #E8F0FE;\n",
              "      border: none;\n",
              "      border-radius: 50%;\n",
              "      cursor: pointer;\n",
              "      display: none;\n",
              "      fill: #1967D2;\n",
              "      height: 32px;\n",
              "      padding: 0 0 0 0;\n",
              "      width: 32px;\n",
              "    }\n",
              "\n",
              "    .colab-df-convert:hover {\n",
              "      background-color: #E2EBFA;\n",
              "      box-shadow: 0px 1px 2px rgba(60, 64, 67, 0.3), 0px 1px 3px 1px rgba(60, 64, 67, 0.15);\n",
              "      fill: #174EA6;\n",
              "    }\n",
              "\n",
              "    [theme=dark] .colab-df-convert {\n",
              "      background-color: #3B4455;\n",
              "      fill: #D2E3FC;\n",
              "    }\n",
              "\n",
              "    [theme=dark] .colab-df-convert:hover {\n",
              "      background-color: #434B5C;\n",
              "      box-shadow: 0px 1px 3px 1px rgba(0, 0, 0, 0.15);\n",
              "      filter: drop-shadow(0px 1px 2px rgba(0, 0, 0, 0.3));\n",
              "      fill: #FFFFFF;\n",
              "    }\n",
              "  </style>\n",
              "\n",
              "      <script>\n",
              "        const buttonEl =\n",
              "          document.querySelector('#df-383479d6-e910-47f6-b8c3-edb85b867633 button.colab-df-convert');\n",
              "        buttonEl.style.display =\n",
              "          google.colab.kernel.accessAllowed ? 'block' : 'none';\n",
              "\n",
              "        async function convertToInteractive(key) {\n",
              "          const element = document.querySelector('#df-383479d6-e910-47f6-b8c3-edb85b867633');\n",
              "          const dataTable =\n",
              "            await google.colab.kernel.invokeFunction('convertToInteractive',\n",
              "                                                     [key], {});\n",
              "          if (!dataTable) return;\n",
              "\n",
              "          const docLinkHtml = 'Like what you see? Visit the ' +\n",
              "            '<a target=\"_blank\" href=https://colab.research.google.com/notebooks/data_table.ipynb>data table notebook</a>'\n",
              "            + ' to learn more about interactive tables.';\n",
              "          element.innerHTML = '';\n",
              "          dataTable['output_type'] = 'display_data';\n",
              "          await google.colab.output.renderOutput(dataTable, element);\n",
              "          const docLink = document.createElement('div');\n",
              "          docLink.innerHTML = docLinkHtml;\n",
              "          element.appendChild(docLink);\n",
              "        }\n",
              "      </script>\n",
              "    </div>\n",
              "  </div>\n",
              "  "
            ]
          },
          "metadata": {},
          "execution_count": 1
        }
      ],
      "source": [
        "#Write your code here.\n",
        "\n",
        "import pandas as pd\n",
        "import nltk\n",
        "from nltk.corpus import stopwords\n",
        "from textblob import Word\n",
        "\n",
        "amazon_data = pd.read_csv('/content/gdrive/My Drive/Assignment Nov 20/Amazon_Unlocked_Mobile.csv')\n",
        "amazon_data = amazon_data.head(20000)\n",
        "nltk.download('stopwords')\n",
        "stop = stopwords.words('english')\n",
        "nltk.download('wordnet')\n",
        "\n",
        "amazon_data['Reviews'] = amazon_data['Reviews'].apply(lambda x: \" \".join(x.lower() for x in str(x).split()))\n",
        "amazon_data['Reviews'] = amazon_data['Reviews'].str.replace('[^\\w\\s]','')\n",
        "amazon_data['Reviews'] = amazon_data['Reviews'].apply(lambda x: \" \".join(x for x in x.split() if x not in stop))\n",
        "amazon_data['Reviews'] = amazon_data['Reviews'].apply(lambda x: \" \".join([Word(word).lemmatize() for word in x.split()]))\n",
        "amazon_data.head()"
      ]
    },
    {
      "cell_type": "code",
      "source": [
        "amazon_data.shape"
      ],
      "metadata": {
        "colab": {
          "base_uri": "https://localhost:8080/"
        },
        "id": "L7zALvst-brB",
        "outputId": "9e687e08-aa04-4488-f899-bec929be8c6e"
      },
      "execution_count": 2,
      "outputs": [
        {
          "output_type": "execute_result",
          "data": {
            "text/plain": [
              "(20000, 6)"
            ]
          },
          "metadata": {},
          "execution_count": 2
        }
      ]
    },
    {
      "cell_type": "code",
      "execution_count": 3,
      "metadata": {
        "colab": {
          "base_uri": "https://localhost:8080/"
        },
        "id": "cBpkdMPe3BOV",
        "outputId": "c9fccced-b827-4f51-f895-6654a6f9573a"
      },
      "outputs": [
        {
          "output_type": "stream",
          "name": "stderr",
          "text": [
            "/usr/local/lib/python3.7/dist-packages/sklearn/utils/deprecation.py:87: FutureWarning: Function get_feature_names is deprecated; get_feature_names is deprecated in 1.0 and will be removed in 1.2. Please use get_feature_names_out instead.\n",
            "  warnings.warn(msg, category=FutureWarning)\n"
          ]
        },
        {
          "output_type": "execute_result",
          "data": {
            "text/plain": [
              "Counter({1: 6182,\n",
              "         0: 8874,\n",
              "         3: 850,\n",
              "         5: 1149,\n",
              "         8: 1090,\n",
              "         6: 331,\n",
              "         7: 368,\n",
              "         4: 661,\n",
              "         2: 495})"
            ]
          },
          "metadata": {},
          "execution_count": 3
        }
      ],
      "source": [
        "from sklearn.feature_extraction.text import TfidfVectorizer\n",
        "\n",
        "tfidf_vect = TfidfVectorizer()\n",
        "tfidf_vectors = tfidf_vect.fit_transform(amazon_data['Reviews'].values.astype('U'))\n",
        "\n",
        "names= tfidf_vect.get_feature_names()\n",
        "\n",
        "#forming 9 clusters\n",
        "from sklearn.cluster import KMeans\n",
        "\n",
        "kmeans_model = KMeans(n_clusters = 9, random_state=50)\n",
        "kmeans_model.fit(tfidf_vectors)\n",
        "\n",
        "\n",
        "from collections import Counter\n",
        "Counter(kmeans_model.labels_)"
      ]
    },
    {
      "cell_type": "code",
      "execution_count": 4,
      "metadata": {
        "colab": {
          "base_uri": "https://localhost:8080/"
        },
        "id": "B1jQBTMY3BOW",
        "outputId": "87a2b0e3-e275-4c71-e747-f7ac23d087a9"
      },
      "outputs": [
        {
          "output_type": "stream",
          "name": "stdout",
          "text": [
            "Cluster 1\n",
            "Top Words: ['work', 'iphone', 'good', 'product', 'like', 'new', 'great']\n",
            "Cluster 2\n",
            "Top Words: ['phone', 'work', 'new', 'great', 'good', 'one', 'like']\n",
            "Cluster 3\n",
            "Top Words: ['love', 'phone', 'great', 'wife', 'work', 'daughter', 'iphone']\n",
            "Cluster 4\n",
            "Top Words: ['good', 'product', 'phone', 'far', 'work', 'condition', 'buy']\n",
            "Cluster 5\n",
            "Top Words: ['nice', 'excelente', 'excelent', 'ok', 'phone', 'product', 'producto']\n",
            "Cluster 6\n",
            "Top Words: ['battery', 'charge', 'phone', 'hold', 'life', 'hour', 'last']\n"
          ]
        }
      ],
      "source": [
        "top_words = 7\n",
        "\n",
        "centroids = kmeans_model.cluster_centers_.argsort()[:, ::-1]\n",
        "\n",
        "for cluster_num in range(6):\n",
        "    key_features = [names[i] for i in centroids[cluster_num, :top_words]]\n",
        "    print('Cluster '+str(cluster_num+1))\n",
        "    print('Top Words:', key_features)"
      ]
    },
    {
      "cell_type": "code",
      "execution_count": 5,
      "metadata": {
        "colab": {
          "base_uri": "https://localhost:8080/"
        },
        "id": "AiNdBWB93BOX",
        "outputId": "f200ab33-cc4b-4982-cf58-b91a32a83aeb"
      },
      "outputs": [
        {
          "output_type": "execute_result",
          "data": {
            "text/plain": [
              "array([[1.36206955e-04, 0.00000000e+00, 0.00000000e+00, ...,\n",
              "        4.06396847e-05, 0.00000000e+00, 4.06396847e-05],\n",
              "       [0.00000000e+00, 9.94215449e-05, 1.24947780e-05, ...,\n",
              "        0.00000000e+00, 6.05956668e-05, 0.00000000e+00],\n",
              "       [0.00000000e+00, 0.00000000e+00, 0.00000000e+00, ...,\n",
              "        0.00000000e+00, 0.00000000e+00, 0.00000000e+00],\n",
              "       ...,\n",
              "       [0.00000000e+00, 0.00000000e+00, 0.00000000e+00, ...,\n",
              "        0.00000000e+00, 0.00000000e+00, 0.00000000e+00],\n",
              "       [0.00000000e+00, 0.00000000e+00, 0.00000000e+00, ...,\n",
              "        0.00000000e+00, 0.00000000e+00, 0.00000000e+00],\n",
              "       [0.00000000e+00, 0.00000000e+00, 0.00000000e+00, ...,\n",
              "        0.00000000e+00, 0.00000000e+00, 0.00000000e+00]])"
            ]
          },
          "metadata": {},
          "execution_count": 5
        }
      ],
      "source": [
        "cluster_center = kmeans_model.cluster_centers_\n",
        "cluster_center"
      ]
    },
    {
      "cell_type": "code",
      "execution_count": 6,
      "metadata": {
        "colab": {
          "base_uri": "https://localhost:8080/"
        },
        "id": "_laLJJT43BOX",
        "outputId": "b161d717-7bbc-4e68-f9fb-21830bfce98a"
      },
      "outputs": [
        {
          "output_type": "stream",
          "name": "stderr",
          "text": [
            "/usr/local/lib/python3.7/dist-packages/ipykernel_launcher.py:21: RuntimeWarning: invalid value encountered in true_divide\n"
          ]
        }
      ],
      "source": [
        "reviews=[]\n",
        "for i in amazon_data['Reviews']:\n",
        "    reviews.append(str(i).split())\n",
        "\n",
        "import gensim\n",
        "w2v_model=gensim.models.Word2Vec(reviews, size=100, workers=4)\n",
        "\n",
        "import numpy as np\n",
        "\n",
        "vectors = []\n",
        "for i in reviews:\n",
        "    vector = np.zeros(100)\n",
        "    count = 0\n",
        "    for word in i:\n",
        "        try:\n",
        "            vec = w2v_model.wv[word]\n",
        "            vector += vec\n",
        "            count += 1\n",
        "        except:\n",
        "            pass\n",
        "    vector /= count\n",
        "    vectors.append(vector)\n",
        "\n",
        "vectors = np.array(vectors)\n",
        "vectors = np.nan_to_num(vectors)"
      ]
    },
    {
      "cell_type": "code",
      "execution_count": 7,
      "metadata": {
        "colab": {
          "base_uri": "https://localhost:8080/"
        },
        "id": "3F4fZ0PL3BOX",
        "outputId": "6be3a3c5-f52e-41b4-981e-2eb8461cad8e"
      },
      "outputs": [
        {
          "output_type": "execute_result",
          "data": {
            "text/plain": [
              "(20000, 100)"
            ]
          },
          "metadata": {},
          "execution_count": 7
        }
      ],
      "source": [
        "from sklearn.cluster import DBSCAN\n",
        "\n",
        "minPts = 2 * 100\n",
        "\n",
        "# Lower bound function\n",
        "def lower_bound(nums, target): \n",
        "    l, r = 0, len(nums) - 1\n",
        "    # Binary searching\n",
        "    while l <= r:\n",
        "        mid = int(l + (r - l) / 2)\n",
        "        if nums[mid] >= target:\n",
        "            r = mid - 1\n",
        "        else:\n",
        "            l = mid + 1\n",
        "    return l\n",
        "\n",
        "def compute200thnearestneighbour(x, data): \n",
        "    dists = []\n",
        "    for val in data:\n",
        "      # computing distances\n",
        "      dist = np.sum((x - val) **2 )\n",
        "\n",
        "      if(len(dists) == 200 and dists[199] > dist):\n",
        "          l = int(lower_bound(dists, dist))\n",
        "          if l < 200 and l >= 0 and dists[l] > dist:\n",
        "              dists[l] = dist\n",
        "      else:\n",
        "          dists.append(dist)\n",
        "          dists.sort()\n",
        "\n",
        "    # Dist 199 contains the distance of 200th nearest neighbour.    \n",
        "    return dists[199]\n",
        "\n",
        "vectors.shape"
      ]
    },
    {
      "cell_type": "code",
      "source": [
        "dist_200th = []\n",
        "\n",
        "for val in vectors[:1000]:\n",
        "    dist_200th.append( compute200thnearestneighbour(val, vectors[:1000]))\n",
        "\n",
        "dist_200th.sort()"
      ],
      "metadata": {
        "id": "X-Ku-RD58TIM"
      },
      "execution_count": 8,
      "outputs": []
    },
    {
      "cell_type": "code",
      "source": [
        "%matplotlib inline\n",
        "from matplotlib import pyplot as plt\n",
        "\n",
        "plt.figure(figsize=(14,4))\n",
        "\n",
        "plt.title(\"Elbow Method\")\n",
        "plt.plot([x for x in range(len(dist_200th))], dist_200th)\n",
        "\n",
        "plt.xlabel(\"Number of points\")\n",
        "plt.ylabel(\"Distance of 200th Nearest Neighbour\")\n",
        "plt.show()"
      ],
      "metadata": {
        "colab": {
          "base_uri": "https://localhost:8080/",
          "height": 295
        },
        "id": "51qciskI8TJr",
        "outputId": "ccb406a3-f3e0-4a57-dbab-8c983440611b"
      },
      "execution_count": 9,
      "outputs": [
        {
          "output_type": "display_data",
          "data": {
            "text/plain": [
              "<Figure size 1008x288 with 1 Axes>"
            ],
            "image/png": "[encoded data removed]"
          },
          "metadata": {
            "needs_background": "light"
          }
        }
      ]
    },
    {
      "cell_type": "code",
      "source": [
        "import scipy\n",
        "from scipy.cluster import hierarchy\n",
        "\n",
        "dendro = hierarchy.dendrogram(hierarchy.linkage(vectors, method='ward'))\n",
        "\n",
        "plt.axhline(y=20)"
      ],
      "metadata": {
        "colab": {
          "base_uri": "https://localhost:8080/",
          "height": 288
        },
        "id": "Yb2Zowep80kQ",
        "outputId": "2a52ed2f-35a4-4a8b-a2eb-a7602d358bc1"
      },
      "execution_count": 10,
      "outputs": [
        {
          "output_type": "execute_result",
          "data": {
            "text/plain": [
              "<matplotlib.lines.Line2D at 0x7f05e87af890>"
            ]
          },
          "metadata": {},
          "execution_count": 10
        },
        {
          "output_type": "display_data",
          "data": {
            "text/plain": [
              "<Figure size 432x288 with 1 Axes>"
            ],
            "image/png": "[encoded data removed]"
          },
          "metadata": {
            "needs_background": "light"
          }
        }
      ]
    },
    {
      "cell_type": "code",
      "source": [],
      "metadata": {
        "id": "26bNxi6r8TOd"
      },
      "execution_count": null,
      "outputs": []
    },
    {
      "cell_type": "markdown",
      "metadata": {
        "id": "oCm759Va3BOX"
      },
      "source": [
        "In one paragraph, please compare K means, DBSCAN and Hierarchical clustering."
      ]
    },
    {
      "cell_type": "code",
      "execution_count": 11,
      "metadata": {
        "id": "NUgzVSxt3BOY"
      },
      "outputs": [],
      "source": [
        "#You can write you answer here. (No code needed)"
      ]
    },
    {
      "cell_type": "markdown",
      "source": [
        "K-means clustering is based on the distance between the data points and the centroids of the clusters themselves.\\\n",
        "DBSCAN is used to perform clustering that is based on density.\\\n",
        "Here the areas where the points are concetrated the most are found and are segregated from empty space.\\\n",
        "Hierarchical clustering, as the name suggests involves clustering in layers. \n",
        "It begins with considering each data point as a seperate cluster and then finds the two clusters that are closer to each other.\n"
      ],
      "metadata": {
        "id": "xFnSJYwxAiqh"
      }
    },
    {
      "cell_type": "code",
      "source": [],
      "metadata": {
        "id": "0C5vLVIlAptt"
      },
      "execution_count": null,
      "outputs": []
    }
  ],
  "metadata": {
    "kernelspec": {
      "display_name": "Python 3 (ipykernel)",
      "language": "python",
      "name": "python3"
    },
    "language_info": {
      "codemirror_mode": {
        "name": "ipython",
        "version": 3
      },
      "file_extension": ".py",
      "mimetype": "text/x-python",
      "name": "python",
      "nbconvert_exporter": "python",
      "pygments_lexer": "ipython3",
      "version": "3.9.12"
    },
    "colab": {
      "provenance": [],
      "machine_shape": "hm"
    },
    "gpuClass": "standard"
  },
  "nbformat": 4,
  "nbformat_minor": 0
}